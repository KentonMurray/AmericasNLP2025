{
  "nbformat": 4,
  "nbformat_minor": 0,
  "metadata": {
    "colab": {
      "provenance": []
    },
    "kernelspec": {
      "name": "python3",
      "display_name": "Python 3"
    },
    "language_info": {
      "name": "python"
    }
  },
  "cells": [
    {
      "cell_type": "markdown",
      "source": [
        "# Tic-Tac-Toe and Alpha-Beta Pruning\n",
        "\n",
        "We are going to play tic-tac-toe and use it to explain search algorithms"
      ],
      "metadata": {
        "id": "tKfduj4zDAgU"
      }
    },
    {
      "cell_type": "code",
      "execution_count": 2,
      "metadata": {
        "colab": {
          "base_uri": "https://localhost:8080/"
        },
        "id": "Ul3QyOLTC34d",
        "outputId": "55d81500-c72c-451f-c20f-928736116b61"
      },
      "outputs": [
        {
          "output_type": "stream",
          "name": "stdout",
          "text": [
            "X | O | X\n",
            "---------\n",
            "O | X | O\n",
            "---------\n",
            "X | O | X\n"
          ]
        }
      ],
      "source": [
        "def print_board(board):\n",
        "    counter = 0\n",
        "    for row in board:\n",
        "        print(\" | \".join(row))\n",
        "        counter += 1\n",
        "        if counter < len(board):\n",
        "            print(\"-\" * 9)\n",
        "\n",
        "print_board([[\"X\", \"O\", \"X\"], [\"O\", \"X\", \"O\"], [\"X\", \"O\", \"X\"]])"
      ]
    },
    {
      "cell_type": "markdown",
      "source": [
        "Pop Quiz: How many different opening moves are there? There are two types of players (X and O) and 9 squares."
      ],
      "metadata": {
        "id": "oyrkxRPO6vlq"
      }
    },
    {
      "cell_type": "markdown",
      "source": [
        "Did you guess 18?\n",
        "\n",
        "...\n",
        "\n",
        "Did you guess 9?\n",
        "\n",
        "...\n",
        "\n",
        "How about something else?\n",
        "\n",
        "\n",
        "...."
      ],
      "metadata": {
        "id": "Kcpp8EwML_cM"
      }
    },
    {
      "cell_type": "code",
      "source": [
        "print_board([[\"X\", \" \", \" \"], [\" \", \" \", \" \"], [\" \", \" \", \" \"]])"
      ],
      "metadata": {
        "id": "7fUO5poRML9H",
        "outputId": "a10a7a2e-9a53-412c-c916-550f9029cdf5",
        "colab": {
          "base_uri": "https://localhost:8080/"
        }
      },
      "execution_count": 3,
      "outputs": [
        {
          "output_type": "stream",
          "name": "stdout",
          "text": [
            "X |   |  \n",
            "---------\n",
            "  |   |  \n",
            "---------\n",
            "  |   |  \n"
          ]
        }
      ]
    },
    {
      "cell_type": "code",
      "source": [
        "print_board([[\"O\", \" \", \" \"], [\" \", \" \", \" \"], [\" \", \" \", \" \"]])"
      ],
      "metadata": {
        "id": "FpA0Wj2zMh40",
        "outputId": "fe226fed-e10c-48b8-fe34-4990a3025ea0",
        "colab": {
          "base_uri": "https://localhost:8080/"
        }
      },
      "execution_count": 6,
      "outputs": [
        {
          "output_type": "stream",
          "name": "stdout",
          "text": [
            "O |   |  \n",
            "---------\n",
            "  |   |  \n",
            "---------\n",
            "  |   |  \n"
          ]
        }
      ]
    },
    {
      "cell_type": "markdown",
      "source": [
        "It doesn't matter if you start with \"X\" or \"O\" .. there are only two players. It could be \"green\" or \"red\" and it still wouldn't matter."
      ],
      "metadata": {
        "id": "38wHynjaMml8"
      }
    },
    {
      "cell_type": "code",
      "source": [
        "print_board([[\"X\", \" \", \" \"], [\" \", \" \", \" \"], [\" \", \" \", \" \"]])\n",
        "print(\"=\"*20)\n",
        "print()\n",
        "print_board([[\" \", \" \", \"X\"], [\" \", \" \", \" \"], [\" \", \" \", \" \"]])\n",
        "print(\"=\"*20)\n",
        "print()\n",
        "print_board([[\" \", \" \", \" \"], [\" \", \" \", \" \"], [\"X\", \" \", \" \"]])\n",
        "print(\"=\"*20)\n",
        "print()\n",
        "print_board([[\" \", \" \", \" \"], [\" \", \" \", \" \"], [\" \", \" \", \"X\"]])\n"
      ],
      "metadata": {
        "id": "ZVChMxLXMbx7",
        "outputId": "fa8cd4dd-29d6-40de-f29c-cb2b11e7954d",
        "colab": {
          "base_uri": "https://localhost:8080/"
        }
      },
      "execution_count": 10,
      "outputs": [
        {
          "output_type": "stream",
          "name": "stdout",
          "text": [
            "X |   |  \n",
            "---------\n",
            "  |   |  \n",
            "---------\n",
            "  |   |  \n",
            "====================\n",
            "\n",
            "  |   | X\n",
            "---------\n",
            "  |   |  \n",
            "---------\n",
            "  |   |  \n",
            "====================\n",
            "\n",
            "  |   |  \n",
            "---------\n",
            "  |   |  \n",
            "---------\n",
            "X |   |  \n",
            "====================\n",
            "\n",
            "  |   |  \n",
            "---------\n",
            "  |   |  \n",
            "---------\n",
            "  |   | X\n"
          ]
        }
      ]
    },
    {
      "cell_type": "markdown",
      "source": [
        "All of these start positions are equivalent. You can draw the game on a piece of paper and rotate it around to get each of these. All that matters is that you started with a corner."
      ],
      "metadata": {
        "id": "0rcoz5C7NWXI"
      }
    },
    {
      "cell_type": "markdown",
      "source": [
        "These are called \"rotationally invariant\""
      ],
      "metadata": {
        "id": "A64WM2bUPm3h"
      }
    },
    {
      "cell_type": "markdown",
      "source": [
        "TODO: rotational invariance in matrix notation"
      ],
      "metadata": {
        "id": "bS3JToiYP7Nw"
      }
    },
    {
      "cell_type": "markdown",
      "source": [
        "9*8*7*6*5*4*3*2*1"
      ],
      "metadata": {
        "id": "weOWDKnCQBn1"
      }
    },
    {
      "cell_type": "markdown",
      "source": [
        "If we are to label each square..."
      ],
      "metadata": {
        "id": "tZMk66faQGm_"
      }
    },
    {
      "cell_type": "code",
      "source": [
        "print_board([[\"1\", \"2\", \"3\"], [\"4\", \"5\", \"6\"], [\"7\", \"8\", \"9\"]])"
      ],
      "metadata": {
        "id": "jAVxdvOaQX1G",
        "outputId": "7e3c1587-f495-491e-a3fd-4d6940df4598",
        "colab": {
          "base_uri": "https://localhost:8080/"
        }
      },
      "execution_count": 11,
      "outputs": [
        {
          "output_type": "stream",
          "name": "stdout",
          "text": [
            "1 | 2 | 3\n",
            "---------\n",
            "4 | 5 | 6\n",
            "---------\n",
            "7 | 8 | 9\n"
          ]
        }
      ]
    },
    {
      "cell_type": "markdown",
      "source": [
        "Likewise, choosing a non-corner edge is also equivalent."
      ],
      "metadata": {
        "id": "MTjkfS0dQvCw"
      }
    },
    {
      "cell_type": "code",
      "source": [
        "print_board([[\" \", \"X\", \" \"], [\" \", \" \", \" \"], [\" \", \" \", \" \"]])\n",
        "print(\"=\"*20)\n",
        "print()\n",
        "print_board([[\" \", \" \", \" \"], [\"X\", \" \", \" \"], [\" \", \" \", \" \"]])\n",
        "print(\"=\"*20)\n",
        "print()\n",
        "print_board([[\" \", \" \", \" \"], [\" \", \" \", \"X\"], [\" \", \" \", \" \"]])\n",
        "print(\"=\"*20)\n",
        "print()\n",
        "print_board([[\" \", \" \", \" \"], [\" \", \" \", \" \"], [\" \", \"X\", \" \"]])"
      ],
      "metadata": {
        "id": "k05aioi_QktV",
        "outputId": "96919beb-880c-4357-e647-6ce03e3d079a",
        "colab": {
          "base_uri": "https://localhost:8080/"
        }
      },
      "execution_count": 13,
      "outputs": [
        {
          "output_type": "stream",
          "name": "stdout",
          "text": [
            "  | X |  \n",
            "---------\n",
            "  |   |  \n",
            "---------\n",
            "  |   |  \n",
            "====================\n",
            "\n",
            "  |   |  \n",
            "---------\n",
            "X |   |  \n",
            "---------\n",
            "  |   |  \n",
            "====================\n",
            "\n",
            "  |   |  \n",
            "---------\n",
            "  |   | X\n",
            "---------\n",
            "  |   |  \n",
            "====================\n",
            "\n",
            "  |   |  \n",
            "---------\n",
            "  |   |  \n",
            "---------\n",
            "  | X |  \n",
            "====================\n",
            "\n"
          ]
        }
      ]
    },
    {
      "cell_type": "markdown",
      "source": [
        "And finally, the last remaining square you can start at is the center"
      ],
      "metadata": {
        "id": "SCj_hoelRE2l"
      }
    },
    {
      "cell_type": "code",
      "source": [
        "print_board([[\" \", \" \", \" \"], [\" \", \"X\", \" \"], [\" \", \" \", \" \"]])"
      ],
      "metadata": {
        "id": "aydsQ14SRKt8",
        "outputId": "d5826d5c-1dad-4957-8dd1-87c9998e66d3",
        "colab": {
          "base_uri": "https://localhost:8080/"
        }
      },
      "execution_count": 14,
      "outputs": [
        {
          "output_type": "stream",
          "name": "stdout",
          "text": [
            "  |   |  \n",
            "---------\n",
            "  | X |  \n",
            "---------\n",
            "  |   |  \n"
          ]
        }
      ]
    },
    {
      "cell_type": "markdown",
      "source": [
        "So, the only real choice you have to start the game is \"Corner\", \"Edge\", or \"Center\". So you have 3 choices to start."
      ],
      "metadata": {
        "id": "cVCwY2B0ROrt"
      }
    },
    {
      "cell_type": "markdown",
      "source": [
        "### Second Turn\n",
        "Let's assume that you started with a corner. How many choices do you have now?"
      ],
      "metadata": {
        "id": "4O6xYBPpRZJ6"
      }
    },
    {
      "cell_type": "code",
      "source": [
        "print_board([[\"X\", \" \", \" \"], [\" \", \" \", \" \"], [\" \", \" \", \" \"]])\n"
      ],
      "metadata": {
        "id": "ZvlSlD-8RqS7",
        "outputId": "6364934d-28a2-43c2-8848-21a9c1fc9b44",
        "colab": {
          "base_uri": "https://localhost:8080/"
        }
      },
      "execution_count": 17,
      "outputs": [
        {
          "output_type": "stream",
          "name": "stdout",
          "text": [
            "X |   |  \n",
            "---------\n",
            "  |   |  \n",
            "---------\n",
            "  |   |  \n"
          ]
        }
      ]
    },
    {
      "cell_type": "markdown",
      "source": [
        "Choosing an edge next to that corner is equivalent. This isn't rotational invariance, but ..."
      ],
      "metadata": {
        "id": "j31mFKpuR8YT"
      }
    },
    {
      "cell_type": "code",
      "source": [
        "print_board([[\"X\", \"O\", \" \"], [\" \", \" \", \" \"], [\" \", \" \", \" \"]])\n",
        "print(\"=\"*20)\n",
        "print()\n",
        "print_board([[\"X\", \" \", \" \"], [\"O\", \" \", \" \"], [\" \", \" \", \" \"]])\n"
      ],
      "metadata": {
        "id": "L3lVTkX5R1MP",
        "outputId": "8ed8091b-9f59-480c-ffa8-6934e0df165d",
        "colab": {
          "base_uri": "https://localhost:8080/"
        }
      },
      "execution_count": 18,
      "outputs": [
        {
          "output_type": "stream",
          "name": "stdout",
          "text": [
            "X | O |  \n",
            "---------\n",
            "  |   |  \n",
            "---------\n",
            "  |   |  \n",
            "====================\n",
            "\n",
            "X |   |  \n",
            "---------\n",
            "O |   |  \n",
            "---------\n",
            "  |   |  \n"
          ]
        }
      ]
    },
    {
      "cell_type": "markdown",
      "source": [
        "Likewise, choosing the two far edges are also equivalent."
      ],
      "metadata": {
        "id": "IuuA_8LtSOpu"
      }
    },
    {
      "cell_type": "code",
      "source": [
        "print_board([[\"X\", \" \", \" \"], [\" \", \" \", \" \"], [\" \", \"O\", \" \"]])\n",
        "print(\"=\"*20)\n",
        "print()\n",
        "print_board([[\"X\", \" \", \" \"], [\" \", \" \", \"O\"], [\" \", \" \", \" \"]])"
      ],
      "metadata": {
        "id": "EqgQcGsBSSy8",
        "outputId": "985828b4-f967-49b0-c91d-a465624c6c0a",
        "colab": {
          "base_uri": "https://localhost:8080/"
        }
      },
      "execution_count": 19,
      "outputs": [
        {
          "output_type": "stream",
          "name": "stdout",
          "text": [
            "X |   |  \n",
            "---------\n",
            "  |   |  \n",
            "---------\n",
            "  | O |  \n",
            "====================\n",
            "\n",
            "X |   |  \n",
            "---------\n",
            "  |   | O\n",
            "---------\n",
            "  |   |  \n"
          ]
        }
      ]
    },
    {
      "cell_type": "markdown",
      "source": [
        "Choosing the closest corners are equivalent, but not the opposite one."
      ],
      "metadata": {
        "id": "AybKhzDsSaVA"
      }
    },
    {
      "cell_type": "code",
      "source": [
        "print_board([[\"X\", \" \", \"O\"], [\" \", \" \", \" \"], [\" \", \" \", \" \"]])\n",
        "print(\"=\"*20)\n",
        "print()\n",
        "print_board([[\"X\", \" \", \" \"], [\" \", \" \", \" \"], [\"O\", \" \", \" \"]])\n",
        "print(\"~\"*20)\n",
        "print()\n",
        "print_board([[\"X\", \" \", \" \"], [\" \", \" \", \" \"], [\" \", \" \", \"O\"]])"
      ],
      "metadata": {
        "id": "A9EilWi5Sg8T",
        "outputId": "7b2dffe7-529c-4f86-dc06-4151e99469fa",
        "colab": {
          "base_uri": "https://localhost:8080/"
        }
      },
      "execution_count": 21,
      "outputs": [
        {
          "output_type": "stream",
          "name": "stdout",
          "text": [
            "X |   | O\n",
            "---------\n",
            "  |   |  \n",
            "---------\n",
            "  |   |  \n",
            "====================\n",
            "\n",
            "X |   |  \n",
            "---------\n",
            "  |   |  \n",
            "---------\n",
            "O |   |  \n",
            "~~~~~~~~~~~~~~~~~~~~\n",
            "\n",
            "X |   |  \n",
            "---------\n",
            "  |   |  \n",
            "---------\n",
            "  |   | O\n"
          ]
        }
      ]
    }
  ]
}