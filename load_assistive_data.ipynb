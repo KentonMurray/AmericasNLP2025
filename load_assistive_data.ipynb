{
 "cells": [
  {
   "cell_type": "code",
   "execution_count": null,
   "metadata": {},
   "outputs": [
    {
     "name": "stdout",
     "output_type": "stream",
     "text": [
      "{'TYPE': {'AFF': 'Affirmative - A polarity value indicating positive assertion', 'IMP': 'Imperative - A verb form used to give direct commands', 'NEG': 'Negative - A polarity value indicating negation'}, 'SUBTYPE': {'DEC': 'Declarative - A sentence type used to make statements', 'INT': 'Interrogative - A sentence type used to ask questions'}, 'MODE': {'ADVERS': 'Adversative - A verb form expressing contrast or opposition', 'EXH': 'Exhortative - A verb form used to encourage or urge action', 'DES': 'Optative - A grammatical mood expressing wishes or desires', 'IND': 'Indicative - A grammatical mood expressing factual or real situations', 'POT': 'Knowledge/Potential - A grammatical mood expressing possibility or capability', 'SUB': 'Subjunctive - A grammatical mood expressing hypothetical or dependent situations'}, 'TENSE': {'IPFV_HAB': 'Habitual imperfect - A past tense form expressing recurring actions', 'IPFV_REC': 'Recent imperfect - A past tense form expressing recent ongoing actions', 'IPFV_PROG': 'Continuous imperfect - A past tense form expressing continuous actions', 'PRF_REM': 'Remote perfect - A tense form expressing completed actions in distant past', 'PRF_REC': 'Recent perfect - A tense form expressing recently completed actions', 'PRF_PROG': 'Continuous perfect - A tense form expressing completed actions with ongoing relevance', 'PAS_PLU': 'Past perfect - A tense expressing actions completed before another past point', 'PAS_SIM': 'Past - A tense expressing actions before the present moment', 'FUT_CER': 'Future of certainty - A tense expressing assured future actions', 'FUT_POT': 'Potential future - A tense expressing possible future actions', 'FUT_PER': 'Perfect future - A tense expressing actions to be completed in future', 'FUT_SIM': 'Future - A tense expressing actions after the present moment', 'PAS_REC': 'Recent past - A tense expressing very recent past actions', 'PAS_IMP': 'Past imperfect - A tense expressing ongoing past actions', 'PRE_SIM': 'Present - A tense expressing current actions'}, 'ASPECT': {'IPFV': 'Imperfective - An aspect viewing actions as incomplete or ongoing', 'PFV': 'Perfect - An aspect expressing completed actions', 'INC': 'Inchoative - An aspect expressing beginning of states or actions', 'COM': 'Compulsive - An aspect expressing forced or compelled actions', 'DES': 'Desiderative - An aspect expressing desire to perform actions', 'OBL': 'Obligatory or necessary - An aspect expressing required actions', 'HAB': 'Habitual - An aspect expressing regularly occurring actions', 'CUS': 'Customary - An aspect expressing usual or traditional actions', 'BEG': 'Beginning - An aspect marking start of actions', 'IMM': 'Immediate - An aspect marking instantaneous actions', 'TER': 'Terminative - An aspect marking end point of actions', 'INS': 'Assuring - An aspect expressing certainty', 'PRG': 'Progressive - An aspect expressing ongoing actions', 'INM': 'Intermittent - An aspect expressing recurring interrupted actions', 'DUR': 'Durative - An aspect expressing sustained actions', '-': '-'}, 'VOICE': {'MID': 'Middle - A voice where subject is both actor and affected', 'PAS': 'Passive - A voice where subject receives the action', 'ACT': 'Active - A voice where subject performs the action'}, 'ABSNUM': {'PL': 'Plural - A number marking more than one', 'NI': 'Zero - Absence of number marking'}, 'PERSON': {'1_PL_INC': 'First person plural inclusive - Reference to speaker and addressee together (\"we\" including \"you\")', '1_PL_EXC': 'First person plural exclusive - Reference to speaker and others but not addressee (\"we\" but not \"you\")', '3_PL': 'Third person plural - Reference to multiple others (\"they\")', '2_PL': 'Second person plural - Reference to multiple addressees (\"you all\")', '2_SI': 'Second person singular - Reference to single addressee (\"you\")', '3_SI': 'Third person singular - Reference to single other (\"he/she/it\")', '1_PL': 'First person plural - Reference to speaker and others (\"we\")', '1_SI': 'First person singular - Reference to speaker alone (\"I\")', '1_SI_INC': 'First person singular inclusive - Reference to speaker including context', '1_SI_EXC': 'First person singular exclusive - Reference to speaker excluding context'}, 'TRANSITIV': {'ITR': 'Intransitive - A verb that does not take a direct object'}, 'STATUS': {'CMP': 'Complete - Indicating a finished action', 'ICM': 'Incomplete - Indicating an unfinished action'}, 'MARK': {}, 'HON': {'1': 'Only first level included in this dataset - Indicating only basic honorific distinctions are marked'}, 'MOOD': {'COND': 'Conditional - A mood expressing hypothetical situations', 'IMP': 'Imperative - A mood expressing commands', 'INT': 'Interrogative - A mood expressing questions', 'OPT': 'Optative - A mood expressing wishes'}, 'PURPOSIVE': {'VEN': \"direction toward the speaker - Motion oriented toward the speaker's location\", 'VET': \"direction away from speaker - Motion oriented away from the speaker's location\"}}\n"
     ]
    }
   ],
   "source": [
    "def parse_descriptive_tags(file_path):\n",
    "    \"\"\"\n",
    "    Parse a text file containing descriptive tags into two dictionaries:\n",
    "    1. mode: Keys are all-caps strings followed by \"--\", values are the text after \"--\"\n",
    "    2. category_type: Keys are the same as mode, values are dictionaries where:\n",
    "       - Inner keys are all-caps strings in single quotes (either the second string in quotes\n",
    "         for the format 'text':'ALL_CAPS' or the only string in quotes for the format 'ALL_CAPS')\n",
    "       - Inner values are the text after \"#\"\n",
    "    \n",
    "    Args:\n",
    "        file_path (str): Path to the text file\n",
    "        \n",
    "    Returns:\n",
    "        tuple: (mode, category_type) dictionaries\n",
    "    \"\"\"\n",
    "    # Initialize dictionaries\n",
    "    mode = {}\n",
    "    category_type = {}\n",
    "    \n",
    "    # Read the file content\n",
    "    with open(file_path, 'r', encoding='utf-8') as file:\n",
    "        content = file.read()\n",
    "    \n",
    "    # Split the content by lines and process\n",
    "    lines = content.split('\\n')\n",
    "    \n",
    "    current_mode = None\n",
    "    i = 0\n",
    "    \n",
    "    while i < len(lines):\n",
    "        line = lines[i].strip()\n",
    "        \n",
    "        # Check if the line contains a mode definition (all caps followed by --)\n",
    "        if '--' in line and line.split('--')[0].isupper():\n",
    "            parts = line.split('--')\n",
    "            key = parts[0].strip()\n",
    "            value = parts[1].strip() if len(parts) > 1 else \"\"\n",
    "            \n",
    "            # Store in mode dictionary\n",
    "            mode[key] = value\n",
    "            \n",
    "            # Initialize the inner dictionary for category_type\n",
    "            category_type[key] = {}\n",
    "            \n",
    "            # Update current mode\n",
    "            current_mode = key\n",
    "            \n",
    "        # Check if line contains a category definition\n",
    "        elif current_mode and \"'\" in line and '#' in line:\n",
    "            quote_parts = line.split(\"'\")\n",
    "            all_caps_key = None\n",
    "            \n",
    "            # Handle the format 'text':'ALL_CAPS'\n",
    "            if len(quote_parts) >= 5 and ':' in quote_parts[2]:\n",
    "                all_caps_key = quote_parts[3]\n",
    "            # Handle the format 'ALL_CAPS'\n",
    "            elif len(quote_parts) >= 3:\n",
    "                all_caps_key = quote_parts[1]\n",
    "            \n",
    "            if all_caps_key:\n",
    "                # Extract the value (text after #)\n",
    "                comment_parts = line.split('#')\n",
    "                if len(comment_parts) >= 2:\n",
    "                    category_value = comment_parts[1].strip()\n",
    "                    \n",
    "                    # Store in the nested dictionary\n",
    "                    category_type[current_mode][all_caps_key] = category_value\n",
    "        \n",
    "        i += 1\n",
    "    \n",
    "    return mode, category_type\n",
    "\n",
    "# Example usage:\n",
    "mode_dict, category_type_dict = parse_descriptive_tags('descriptive_tags.txt')\n",
    "print(category_type_dict)\n"
   ]
  }
 ],
 "metadata": {
  "kernelspec": {
   "display_name": "Python (my_env)",
   "language": "python",
   "name": "my_env"
  },
  "language_info": {
   "codemirror_mode": {
    "name": "ipython",
    "version": 3
   },
   "file_extension": ".py",
   "mimetype": "text/x-python",
   "name": "python",
   "nbconvert_exporter": "python",
   "pygments_lexer": "ipython3",
   "version": "3.9.18"
  }
 },
 "nbformat": 4,
 "nbformat_minor": 2
}
